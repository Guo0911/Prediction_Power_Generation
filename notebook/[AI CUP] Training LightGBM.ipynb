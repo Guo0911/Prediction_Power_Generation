{
 "cells": [
  {
   "cell_type": "code",
   "execution_count": 1,
   "id": "34360aef",
   "metadata": {
    "_cell_guid": "b1076dfc-b9ad-4769-8c92-a6c4dae69d19",
    "_uuid": "8f2839f25d086af736a60e9eeb907d3b93b6e0e5",
    "execution": {
     "iopub.execute_input": "2024-12-05T05:55:29.017989Z",
     "iopub.status.busy": "2024-12-05T05:55:29.017540Z",
     "iopub.status.idle": "2024-12-05T05:55:32.750057Z",
     "shell.execute_reply": "2024-12-05T05:55:32.748923Z"
    },
    "papermill": {
     "duration": 3.74226,
     "end_time": "2024-12-05T05:55:32.752737",
     "exception": false,
     "start_time": "2024-12-05T05:55:29.010477",
     "status": "completed"
    },
    "tags": []
   },
   "outputs": [],
   "source": [
    "import numpy as np\n",
    "import pandas as pd\n",
    "import lightgbm as lgb\n",
    "\n",
    "from sklearn.model_selection import KFold\n",
    "from sklearn.metrics import mean_absolute_error"
   ]
  },
  {
   "cell_type": "code",
   "execution_count": 2,
   "id": "8642b936",
   "metadata": {
    "execution": {
     "iopub.execute_input": "2024-12-05T05:55:32.764105Z",
     "iopub.status.busy": "2024-12-05T05:55:32.763419Z",
     "iopub.status.idle": "2024-12-05T05:55:36.864559Z",
     "shell.execute_reply": "2024-12-05T05:55:36.863380Z"
    },
    "papermill": {
     "duration": 4.109432,
     "end_time": "2024-12-05T05:55:36.867225",
     "exception": false,
     "start_time": "2024-12-05T05:55:32.757793",
     "status": "completed"
    },
    "tags": []
   },
   "outputs": [
    {
     "data": {
      "text/html": [
       "<div>\n",
       "<style scoped>\n",
       "    .dataframe tbody tr th:only-of-type {\n",
       "        vertical-align: middle;\n",
       "    }\n",
       "\n",
       "    .dataframe tbody tr th {\n",
       "        vertical-align: top;\n",
       "    }\n",
       "\n",
       "    .dataframe thead th {\n",
       "        text-align: right;\n",
       "    }\n",
       "</style>\n",
       "<table border=\"1\" class=\"dataframe\">\n",
       "  <thead>\n",
       "    <tr style=\"text-align: right;\">\n",
       "      <th></th>\n",
       "      <th>LocationCode</th>\n",
       "      <th>direction</th>\n",
       "      <th>temp_cwb</th>\n",
       "      <th>rad_cwb</th>\n",
       "      <th>apparent_zenith</th>\n",
       "      <th>apparent_elevation</th>\n",
       "      <th>azimuth</th>\n",
       "      <th>ghi</th>\n",
       "      <th>dni</th>\n",
       "      <th>dhi</th>\n",
       "      <th>day_of_year</th>\n",
       "      <th>hour</th>\n",
       "      <th>min</th>\n",
       "    </tr>\n",
       "  </thead>\n",
       "  <tbody>\n",
       "    <tr>\n",
       "      <th>0</th>\n",
       "      <td>1</td>\n",
       "      <td>181.0</td>\n",
       "      <td>14.5</td>\n",
       "      <td>0.0</td>\n",
       "      <td>91.917932</td>\n",
       "      <td>-1.917932</td>\n",
       "      <td>114.450417</td>\n",
       "      <td>0.000000</td>\n",
       "      <td>0.000000</td>\n",
       "      <td>0.000000</td>\n",
       "      <td>1</td>\n",
       "      <td>6</td>\n",
       "      <td>31</td>\n",
       "    </tr>\n",
       "    <tr>\n",
       "      <th>1</th>\n",
       "      <td>1</td>\n",
       "      <td>181.0</td>\n",
       "      <td>14.5</td>\n",
       "      <td>0.0</td>\n",
       "      <td>91.709992</td>\n",
       "      <td>-1.709992</td>\n",
       "      <td>114.548622</td>\n",
       "      <td>0.000000</td>\n",
       "      <td>0.000000</td>\n",
       "      <td>0.000000</td>\n",
       "      <td>1</td>\n",
       "      <td>6</td>\n",
       "      <td>32</td>\n",
       "    </tr>\n",
       "    <tr>\n",
       "      <th>2</th>\n",
       "      <td>1</td>\n",
       "      <td>181.0</td>\n",
       "      <td>14.5</td>\n",
       "      <td>0.0</td>\n",
       "      <td>91.502216</td>\n",
       "      <td>-1.502216</td>\n",
       "      <td>114.647162</td>\n",
       "      <td>0.000000</td>\n",
       "      <td>0.000000</td>\n",
       "      <td>0.000000</td>\n",
       "      <td>1</td>\n",
       "      <td>6</td>\n",
       "      <td>33</td>\n",
       "    </tr>\n",
       "    <tr>\n",
       "      <th>3</th>\n",
       "      <td>1</td>\n",
       "      <td>181.0</td>\n",
       "      <td>14.5</td>\n",
       "      <td>0.0</td>\n",
       "      <td>91.294603</td>\n",
       "      <td>-1.294603</td>\n",
       "      <td>114.746037</td>\n",
       "      <td>0.000000</td>\n",
       "      <td>0.000000</td>\n",
       "      <td>0.000000</td>\n",
       "      <td>1</td>\n",
       "      <td>6</td>\n",
       "      <td>34</td>\n",
       "    </tr>\n",
       "    <tr>\n",
       "      <th>4</th>\n",
       "      <td>1</td>\n",
       "      <td>181.0</td>\n",
       "      <td>14.5</td>\n",
       "      <td>0.0</td>\n",
       "      <td>91.087156</td>\n",
       "      <td>-1.087156</td>\n",
       "      <td>114.845251</td>\n",
       "      <td>0.000000</td>\n",
       "      <td>0.000000</td>\n",
       "      <td>0.000000</td>\n",
       "      <td>1</td>\n",
       "      <td>6</td>\n",
       "      <td>35</td>\n",
       "    </tr>\n",
       "    <tr>\n",
       "      <th>...</th>\n",
       "      <td>...</td>\n",
       "      <td>...</td>\n",
       "      <td>...</td>\n",
       "      <td>...</td>\n",
       "      <td>...</td>\n",
       "      <td>...</td>\n",
       "      <td>...</td>\n",
       "      <td>...</td>\n",
       "      <td>...</td>\n",
       "      <td>...</td>\n",
       "      <td>...</td>\n",
       "      <td>...</td>\n",
       "      <td>...</td>\n",
       "    </tr>\n",
       "    <tr>\n",
       "      <th>1302361</th>\n",
       "      <td>17</td>\n",
       "      <td>NaN</td>\n",
       "      <td>31.6</td>\n",
       "      <td>1.8</td>\n",
       "      <td>47.554966</td>\n",
       "      <td>42.445034</td>\n",
       "      <td>278.396905</td>\n",
       "      <td>594.551396</td>\n",
       "      <td>677.751829</td>\n",
       "      <td>137.148378</td>\n",
       "      <td>194</td>\n",
       "      <td>15</td>\n",
       "      <td>26</td>\n",
       "    </tr>\n",
       "    <tr>\n",
       "      <th>1302362</th>\n",
       "      <td>17</td>\n",
       "      <td>NaN</td>\n",
       "      <td>31.6</td>\n",
       "      <td>1.8</td>\n",
       "      <td>47.784701</td>\n",
       "      <td>42.215299</td>\n",
       "      <td>278.469019</td>\n",
       "      <td>591.250877</td>\n",
       "      <td>676.329372</td>\n",
       "      <td>136.812645</td>\n",
       "      <td>194</td>\n",
       "      <td>15</td>\n",
       "      <td>27</td>\n",
       "    </tr>\n",
       "    <tr>\n",
       "      <th>1302363</th>\n",
       "      <td>17</td>\n",
       "      <td>NaN</td>\n",
       "      <td>31.6</td>\n",
       "      <td>1.8</td>\n",
       "      <td>48.010628</td>\n",
       "      <td>41.989372</td>\n",
       "      <td>278.539940</td>\n",
       "      <td>587.994166</td>\n",
       "      <td>674.916117</td>\n",
       "      <td>136.480078</td>\n",
       "      <td>194</td>\n",
       "      <td>15</td>\n",
       "      <td>28</td>\n",
       "    </tr>\n",
       "    <tr>\n",
       "      <th>1302364</th>\n",
       "      <td>17</td>\n",
       "      <td>NaN</td>\n",
       "      <td>31.6</td>\n",
       "      <td>1.8</td>\n",
       "      <td>48.236514</td>\n",
       "      <td>41.763486</td>\n",
       "      <td>278.610851</td>\n",
       "      <td>584.727322</td>\n",
       "      <td>673.488707</td>\n",
       "      <td>136.145177</td>\n",
       "      <td>194</td>\n",
       "      <td>15</td>\n",
       "      <td>29</td>\n",
       "    </tr>\n",
       "    <tr>\n",
       "      <th>1302365</th>\n",
       "      <td>17</td>\n",
       "      <td>NaN</td>\n",
       "      <td>31.6</td>\n",
       "      <td>1.8</td>\n",
       "      <td>48.462356</td>\n",
       "      <td>41.537644</td>\n",
       "      <td>278.681755</td>\n",
       "      <td>581.450426</td>\n",
       "      <td>672.046982</td>\n",
       "      <td>135.807921</td>\n",
       "      <td>194</td>\n",
       "      <td>15</td>\n",
       "      <td>30</td>\n",
       "    </tr>\n",
       "  </tbody>\n",
       "</table>\n",
       "<p>1302366 rows × 13 columns</p>\n",
       "</div>"
      ],
      "text/plain": [
       "         LocationCode  direction  temp_cwb  rad_cwb  apparent_zenith  \\\n",
       "0                   1      181.0      14.5      0.0        91.917932   \n",
       "1                   1      181.0      14.5      0.0        91.709992   \n",
       "2                   1      181.0      14.5      0.0        91.502216   \n",
       "3                   1      181.0      14.5      0.0        91.294603   \n",
       "4                   1      181.0      14.5      0.0        91.087156   \n",
       "...               ...        ...       ...      ...              ...   \n",
       "1302361            17        NaN      31.6      1.8        47.554966   \n",
       "1302362            17        NaN      31.6      1.8        47.784701   \n",
       "1302363            17        NaN      31.6      1.8        48.010628   \n",
       "1302364            17        NaN      31.6      1.8        48.236514   \n",
       "1302365            17        NaN      31.6      1.8        48.462356   \n",
       "\n",
       "         apparent_elevation     azimuth         ghi         dni         dhi  \\\n",
       "0                 -1.917932  114.450417    0.000000    0.000000    0.000000   \n",
       "1                 -1.709992  114.548622    0.000000    0.000000    0.000000   \n",
       "2                 -1.502216  114.647162    0.000000    0.000000    0.000000   \n",
       "3                 -1.294603  114.746037    0.000000    0.000000    0.000000   \n",
       "4                 -1.087156  114.845251    0.000000    0.000000    0.000000   \n",
       "...                     ...         ...         ...         ...         ...   \n",
       "1302361           42.445034  278.396905  594.551396  677.751829  137.148378   \n",
       "1302362           42.215299  278.469019  591.250877  676.329372  136.812645   \n",
       "1302363           41.989372  278.539940  587.994166  674.916117  136.480078   \n",
       "1302364           41.763486  278.610851  584.727322  673.488707  136.145177   \n",
       "1302365           41.537644  278.681755  581.450426  672.046982  135.807921   \n",
       "\n",
       "         day_of_year  hour  min  \n",
       "0                  1     6   31  \n",
       "1                  1     6   32  \n",
       "2                  1     6   33  \n",
       "3                  1     6   34  \n",
       "4                  1     6   35  \n",
       "...              ...   ...  ...  \n",
       "1302361          194    15   26  \n",
       "1302362          194    15   27  \n",
       "1302363          194    15   28  \n",
       "1302364          194    15   29  \n",
       "1302365          194    15   30  \n",
       "\n",
       "[1302366 rows x 13 columns]"
      ]
     },
     "execution_count": 2,
     "metadata": {},
     "output_type": "execute_result"
    }
   ],
   "source": [
    "train_X = pd.read_csv('/kaggle/input/ai-cup-dataset/train_X.csv')\n",
    "\n",
    "train_X"
   ]
  },
  {
   "cell_type": "code",
   "execution_count": 3,
   "id": "8c1b777c",
   "metadata": {
    "execution": {
     "iopub.execute_input": "2024-12-05T05:55:36.879055Z",
     "iopub.status.busy": "2024-12-05T05:55:36.878647Z",
     "iopub.status.idle": "2024-12-05T05:55:36.943247Z",
     "shell.execute_reply": "2024-12-05T05:55:36.941450Z"
    },
    "papermill": {
     "duration": 0.073586,
     "end_time": "2024-12-05T05:55:36.946060",
     "exception": false,
     "start_time": "2024-12-05T05:55:36.872474",
     "status": "completed"
    },
    "tags": []
   },
   "outputs": [
    {
     "name": "stdout",
     "output_type": "stream",
     "text": [
      "<class 'pandas.core.frame.DataFrame'>\n",
      "RangeIndex: 1302366 entries, 0 to 1302365\n",
      "Data columns (total 13 columns):\n",
      " #   Column              Non-Null Count    Dtype  \n",
      "---  ------              --------------    -----  \n",
      " 0   LocationCode        1302366 non-null  int64  \n",
      " 1   direction           1209685 non-null  float64\n",
      " 2   temp_cwb            1302366 non-null  float64\n",
      " 3   rad_cwb             1302366 non-null  float64\n",
      " 4   apparent_zenith     1302366 non-null  float64\n",
      " 5   apparent_elevation  1302366 non-null  float64\n",
      " 6   azimuth             1302366 non-null  float64\n",
      " 7   ghi                 1302366 non-null  float64\n",
      " 8   dni                 1302366 non-null  float64\n",
      " 9   dhi                 1302366 non-null  float64\n",
      " 10  day_of_year         1302366 non-null  int64  \n",
      " 11  hour                1302366 non-null  int64  \n",
      " 12  min                 1302366 non-null  int64  \n",
      "dtypes: float64(9), int64(4)\n",
      "memory usage: 129.2 MB\n"
     ]
    }
   ],
   "source": [
    "train_X.info()"
   ]
  },
  {
   "cell_type": "code",
   "execution_count": 4,
   "id": "5a179784",
   "metadata": {
    "execution": {
     "iopub.execute_input": "2024-12-05T05:55:36.957981Z",
     "iopub.status.busy": "2024-12-05T05:55:36.957549Z",
     "iopub.status.idle": "2024-12-05T05:55:37.183998Z",
     "shell.execute_reply": "2024-12-05T05:55:37.182830Z"
    },
    "papermill": {
     "duration": 0.235919,
     "end_time": "2024-12-05T05:55:37.186886",
     "exception": false,
     "start_time": "2024-12-05T05:55:36.950967",
     "status": "completed"
    },
    "tags": []
   },
   "outputs": [
    {
     "data": {
      "text/html": [
       "<div>\n",
       "<style scoped>\n",
       "    .dataframe tbody tr th:only-of-type {\n",
       "        vertical-align: middle;\n",
       "    }\n",
       "\n",
       "    .dataframe tbody tr th {\n",
       "        vertical-align: top;\n",
       "    }\n",
       "\n",
       "    .dataframe thead th {\n",
       "        text-align: right;\n",
       "    }\n",
       "</style>\n",
       "<table border=\"1\" class=\"dataframe\">\n",
       "  <thead>\n",
       "    <tr style=\"text-align: right;\">\n",
       "      <th></th>\n",
       "      <th>Power(mW)</th>\n",
       "    </tr>\n",
       "  </thead>\n",
       "  <tbody>\n",
       "    <tr>\n",
       "      <th>0</th>\n",
       "      <td>0.00</td>\n",
       "    </tr>\n",
       "    <tr>\n",
       "      <th>1</th>\n",
       "      <td>0.00</td>\n",
       "    </tr>\n",
       "    <tr>\n",
       "      <th>2</th>\n",
       "      <td>0.00</td>\n",
       "    </tr>\n",
       "    <tr>\n",
       "      <th>3</th>\n",
       "      <td>0.00</td>\n",
       "    </tr>\n",
       "    <tr>\n",
       "      <th>4</th>\n",
       "      <td>0.00</td>\n",
       "    </tr>\n",
       "    <tr>\n",
       "      <th>...</th>\n",
       "      <td>...</td>\n",
       "    </tr>\n",
       "    <tr>\n",
       "      <th>1302361</th>\n",
       "      <td>35.91</td>\n",
       "    </tr>\n",
       "    <tr>\n",
       "      <th>1302362</th>\n",
       "      <td>38.23</td>\n",
       "    </tr>\n",
       "    <tr>\n",
       "      <th>1302363</th>\n",
       "      <td>39.95</td>\n",
       "    </tr>\n",
       "    <tr>\n",
       "      <th>1302364</th>\n",
       "      <td>38.51</td>\n",
       "    </tr>\n",
       "    <tr>\n",
       "      <th>1302365</th>\n",
       "      <td>34.87</td>\n",
       "    </tr>\n",
       "  </tbody>\n",
       "</table>\n",
       "<p>1302366 rows × 1 columns</p>\n",
       "</div>"
      ],
      "text/plain": [
       "         Power(mW)\n",
       "0             0.00\n",
       "1             0.00\n",
       "2             0.00\n",
       "3             0.00\n",
       "4             0.00\n",
       "...            ...\n",
       "1302361      35.91\n",
       "1302362      38.23\n",
       "1302363      39.95\n",
       "1302364      38.51\n",
       "1302365      34.87\n",
       "\n",
       "[1302366 rows x 1 columns]"
      ]
     },
     "execution_count": 4,
     "metadata": {},
     "output_type": "execute_result"
    }
   ],
   "source": [
    "train_y = pd.read_csv('/kaggle/input/ai-cup-dataset/train_y.csv')\n",
    "\n",
    "train_y"
   ]
  },
  {
   "cell_type": "code",
   "execution_count": 5,
   "id": "fc59c1a7",
   "metadata": {
    "execution": {
     "iopub.execute_input": "2024-12-05T05:55:37.198511Z",
     "iopub.status.busy": "2024-12-05T05:55:37.198142Z",
     "iopub.status.idle": "2024-12-05T05:55:37.497252Z",
     "shell.execute_reply": "2024-12-05T05:55:37.496146Z"
    },
    "papermill": {
     "duration": 0.307883,
     "end_time": "2024-12-05T05:55:37.499871",
     "exception": false,
     "start_time": "2024-12-05T05:55:37.191988",
     "status": "completed"
    },
    "tags": []
   },
   "outputs": [],
   "source": [
    "valid_X = pd.read_csv('/kaggle/input/ai-cup-dataset/valid_X.csv')\n",
    "valid_y = pd.read_csv('/kaggle/input/ai-cup-dataset/valid_y.csv')"
   ]
  },
  {
   "cell_type": "code",
   "execution_count": 6,
   "id": "b70150d2",
   "metadata": {
    "execution": {
     "iopub.execute_input": "2024-12-05T05:55:37.513002Z",
     "iopub.status.busy": "2024-12-05T05:55:37.512615Z",
     "iopub.status.idle": "2024-12-05T05:55:37.518898Z",
     "shell.execute_reply": "2024-12-05T05:55:37.517695Z"
    },
    "papermill": {
     "duration": 0.015132,
     "end_time": "2024-12-05T05:55:37.521352",
     "exception": false,
     "start_time": "2024-12-05T05:55:37.506220",
     "status": "completed"
    },
    "tags": []
   },
   "outputs": [],
   "source": [
    "num_of_epochs = 100000  # epochs\n",
    "num_of_stopping = int(num_of_epochs/100)\n",
    "\n",
    "params = {\n",
    "    'objective': 'regression', # 設置迴歸任務\n",
    "    'metric': 'mae',           # 評估指標\n",
    "    # 'boosting_type': 'dart',   # 使用, 預設 gbdt(傳統梯度提升決策樹); rf(隨機森林), dart(Dropout 搭配 MART)\n",
    "    \n",
    "    # 'num_leaves': 31,          # 每棵樹的最大葉子節點數, 預設 31\n",
    "    \n",
    "    # 'learning_rate': 0.05,     # 學習率, 預設 0.1\n",
    "\n",
    "    # 'drop_rate': 0.1,          # 每次迭代丟棄樹的比例, 預設 0.1\n",
    "    # 'max_drop': 50,            # 最多丟棄樹的數量, 預設 50\n",
    "    # 'skip_drop': 0.5,          # 跳過丟棄的概率, 預設 0.5\n",
    "    \n",
    "    # 'feature_fraction': 0.9,   # 每棵樹隨機選擇的特徵比例, 預設 1.0\n",
    "    # 'bagging_fraction': 0.8,   # 每次迭代抽樣的數據比例, 預設 1.0\n",
    "    # 'bagging_freq': 5,         # 每隔多少次迭代執行 bagging\n",
    "    \n",
    "    'verbose': 0,              # 不輸出訓練信息\n",
    "    'random_state': 42,\n",
    "}"
   ]
  },
  {
   "cell_type": "code",
   "execution_count": 7,
   "id": "b78f59ed",
   "metadata": {
    "execution": {
     "iopub.execute_input": "2024-12-05T05:55:37.533569Z",
     "iopub.status.busy": "2024-12-05T05:55:37.533217Z",
     "iopub.status.idle": "2024-12-05T10:34:15.011829Z",
     "shell.execute_reply": "2024-12-05T10:34:15.010434Z"
    },
    "papermill": {
     "duration": 16717.493085,
     "end_time": "2024-12-05T10:34:15.019585",
     "exception": false,
     "start_time": "2024-12-05T05:55:37.526500",
     "status": "completed"
    },
    "tags": []
   },
   "outputs": [
    {
     "name": "stdout",
     "output_type": "stream",
     "text": [
      "Training until validation scores don't improve for 1000 rounds\n",
      "Early stopping, best iteration is:\n",
      "[70434]\ttraining's l1: 19.4008\tvalid_1's l1: 39.4786\n",
      "Fold 1 loss : 39.4786\n",
      "Training until validation scores don't improve for 1000 rounds\n",
      "Early stopping, best iteration is:\n",
      "[69997]\ttraining's l1: 19.5436\tvalid_1's l1: 39.6216\n",
      "Fold 2 loss : 39.6216\n",
      "Training until validation scores don't improve for 1000 rounds\n",
      "Early stopping, best iteration is:\n",
      "[83249]\ttraining's l1: 18.1285\tvalid_1's l1: 39.6134\n",
      "Fold 3 loss : 39.6134\n",
      "Training until validation scores don't improve for 1000 rounds\n",
      "Early stopping, best iteration is:\n",
      "[77641]\ttraining's l1: 18.7418\tvalid_1's l1: 39.4512\n",
      "Fold 4 loss : 39.4512\n",
      "Training until validation scores don't improve for 1000 rounds\n",
      "Early stopping, best iteration is:\n",
      "[83923]\ttraining's l1: 18.0944\tvalid_1's l1: 39.6619\n",
      "Fold 5 loss : 39.6619\n",
      "39.565340000000006\n"
     ]
    }
   ],
   "source": [
    "# 進行 5 Folds Cross Validation，可以選擇是否使用\n",
    "kf = KFold(n_splits=5, shuffle=True, random_state=42)\n",
    "\n",
    "loss_folds = []\n",
    "for train_idx, valid_idx in kf.split(train_X):    \n",
    "    fold_train_X, fold_valid_X = train_X.iloc[train_idx], train_X.iloc[valid_idx]\n",
    "    fold_train_y, fold_valid_y = train_y.iloc[train_idx], train_y.iloc[valid_idx]\n",
    "\n",
    "    fold_train_data = lgb.Dataset(fold_train_X, label=fold_train_y)\n",
    "    fold_valid_data = lgb.Dataset(fold_valid_X, label=fold_valid_y, reference=fold_train_data)\n",
    "\n",
    "    model = lgb.train(\n",
    "        params,\n",
    "        fold_train_data,\n",
    "        num_of_epochs,\n",
    "        valid_sets=[fold_train_data, fold_valid_data],\n",
    "        callbacks=[\n",
    "            lgb.early_stopping(stopping_rounds=num_of_stopping),\n",
    "        ]\n",
    "    )\n",
    "    \n",
    "    predi_valid = model.predict(fold_valid_X)\n",
    "\n",
    "    loss = mean_absolute_error(fold_valid_y, predi_valid)\n",
    "    \n",
    "    loss_folds.append(round(loss, 4))\n",
    "\n",
    "    print(f'Fold {len(loss_folds)} loss : {round(loss, 4)}')\n",
    "\n",
    "print(sum(loss_folds)/len(loss_folds))"
   ]
  },
  {
   "cell_type": "code",
   "execution_count": 8,
   "id": "7d673147",
   "metadata": {
    "execution": {
     "iopub.execute_input": "2024-12-05T10:34:15.033092Z",
     "iopub.status.busy": "2024-12-05T10:34:15.032725Z",
     "iopub.status.idle": "2024-12-05T10:34:15.038254Z",
     "shell.execute_reply": "2024-12-05T10:34:15.037187Z"
    },
    "papermill": {
     "duration": 0.014931,
     "end_time": "2024-12-05T10:34:15.040391",
     "exception": false,
     "start_time": "2024-12-05T10:34:15.025460",
     "status": "completed"
    },
    "tags": []
   },
   "outputs": [],
   "source": [
    "train_data = lgb.Dataset(train_X, label=train_y)\n",
    "valid_data = lgb.Dataset(valid_X, label=valid_y, reference=train_data)"
   ]
  },
  {
   "cell_type": "code",
   "execution_count": 9,
   "id": "06e2913c",
   "metadata": {
    "execution": {
     "iopub.execute_input": "2024-12-05T10:34:15.054417Z",
     "iopub.status.busy": "2024-12-05T10:34:15.054073Z",
     "iopub.status.idle": "2024-12-05T11:32:07.129895Z",
     "shell.execute_reply": "2024-12-05T11:32:07.128694Z"
    },
    "papermill": {
     "duration": 3472.085948,
     "end_time": "2024-12-05T11:32:07.132516",
     "exception": false,
     "start_time": "2024-12-05T10:34:15.046568",
     "status": "completed"
    },
    "tags": []
   },
   "outputs": [
    {
     "name": "stdout",
     "output_type": "stream",
     "text": [
      "Training until validation scores don't improve for 1000 rounds\n",
      "Did not meet early stopping. Best iteration is:\n",
      "[100000]\ttraining's l1: 17.6386\tvalid_1's l1: 15.9202\n"
     ]
    }
   ],
   "source": [
    "loss_history = {}\n",
    "\n",
    "model = lgb.train(\n",
    "    params,\n",
    "    train_data,\n",
    "    num_of_epochs,\n",
    "    valid_sets=[train_data, valid_data],\n",
    "    callbacks=[\n",
    "        lgb.early_stopping(stopping_rounds=num_of_stopping),\n",
    "        lgb.record_evaluation(loss_history),\n",
    "    ]\n",
    ")"
   ]
  },
  {
   "cell_type": "code",
   "execution_count": 10,
   "id": "2d6d03f8",
   "metadata": {
    "execution": {
     "iopub.execute_input": "2024-12-05T11:32:07.146447Z",
     "iopub.status.busy": "2024-12-05T11:32:07.146061Z",
     "iopub.status.idle": "2024-12-05T11:32:08.155229Z",
     "shell.execute_reply": "2024-12-05T11:32:08.153754Z"
    },
    "papermill": {
     "duration": 1.018908,
     "end_time": "2024-12-05T11:32:08.157562",
     "exception": false,
     "start_time": "2024-12-05T11:32:07.138654",
     "status": "completed"
    },
    "tags": []
   },
   "outputs": [
    {
     "data": {
      "text/plain": [
       "<Axes: title={'center': 'Metric during training'}, xlabel='Iterations', ylabel='l1'>"
      ]
     },
     "execution_count": 10,
     "metadata": {},
     "output_type": "execute_result"
    },
    {
     "data": {
      "image/png": "[encoded data removed]",
      "text/plain": [
       "<Figure size 640x480 with 1 Axes>"
      ]
     },
     "metadata": {},
     "output_type": "display_data"
    }
   ],
   "source": [
    "lgb.plot_metric(loss_history)"
   ]
  },
  {
   "cell_type": "code",
   "execution_count": 11,
   "id": "208f4b3e",
   "metadata": {
    "execution": {
     "iopub.execute_input": "2024-12-05T11:32:08.173028Z",
     "iopub.status.busy": "2024-12-05T11:32:08.172618Z",
     "iopub.status.idle": "2024-12-05T11:39:09.462755Z",
     "shell.execute_reply": "2024-12-05T11:39:09.461701Z"
    },
    "papermill": {
     "duration": 421.300935,
     "end_time": "2024-12-05T11:39:09.465313",
     "exception": false,
     "start_time": "2024-12-05T11:32:08.164378",
     "status": "completed"
    },
    "tags": []
   },
   "outputs": [],
   "source": [
    "predi = model.predict(valid_X)"
   ]
  },
  {
   "cell_type": "code",
   "execution_count": 12,
   "id": "f6615766",
   "metadata": {
    "execution": {
     "iopub.execute_input": "2024-12-05T11:39:09.481457Z",
     "iopub.status.busy": "2024-12-05T11:39:09.480509Z",
     "iopub.status.idle": "2024-12-05T11:39:09.492239Z",
     "shell.execute_reply": "2024-12-05T11:39:09.491363Z"
    },
    "papermill": {
     "duration": 0.021965,
     "end_time": "2024-12-05T11:39:09.494322",
     "exception": false,
     "start_time": "2024-12-05T11:39:09.472357",
     "status": "completed"
    },
    "tags": []
   },
   "outputs": [
    {
     "data": {
      "text/plain": [
       "15.9202"
      ]
     },
     "execution_count": 12,
     "metadata": {},
     "output_type": "execute_result"
    }
   ],
   "source": [
    "loss = mean_absolute_error(valid_y, predi)\n",
    "\n",
    "loss = round(loss, 4)\n",
    "\n",
    "loss"
   ]
  },
  {
   "cell_type": "code",
   "execution_count": 13,
   "id": "b9d17c28",
   "metadata": {
    "execution": {
     "iopub.execute_input": "2024-12-05T11:39:09.509613Z",
     "iopub.status.busy": "2024-12-05T11:39:09.509232Z",
     "iopub.status.idle": "2024-12-05T11:39:09.551475Z",
     "shell.execute_reply": "2024-12-05T11:39:09.550313Z"
    },
    "papermill": {
     "duration": 0.052574,
     "end_time": "2024-12-05T11:39:09.553839",
     "exception": false,
     "start_time": "2024-12-05T11:39:09.501265",
     "status": "completed"
    },
    "tags": []
   },
   "outputs": [
    {
     "data": {
      "text/html": [
       "<div>\n",
       "<style scoped>\n",
       "    .dataframe tbody tr th:only-of-type {\n",
       "        vertical-align: middle;\n",
       "    }\n",
       "\n",
       "    .dataframe tbody tr th {\n",
       "        vertical-align: top;\n",
       "    }\n",
       "\n",
       "    .dataframe thead th {\n",
       "        text-align: right;\n",
       "    }\n",
       "</style>\n",
       "<table border=\"1\" class=\"dataframe\">\n",
       "  <thead>\n",
       "    <tr style=\"text-align: right;\">\n",
       "      <th></th>\n",
       "      <th>feature</th>\n",
       "      <th>importance</th>\n",
       "    </tr>\n",
       "  </thead>\n",
       "  <tbody>\n",
       "    <tr>\n",
       "      <th>3</th>\n",
       "      <td>rad_cwb</td>\n",
       "      <td>8.880538e+11</td>\n",
       "    </tr>\n",
       "    <tr>\n",
       "      <th>0</th>\n",
       "      <td>LocationCode</td>\n",
       "      <td>2.057688e+11</td>\n",
       "    </tr>\n",
       "    <tr>\n",
       "      <th>6</th>\n",
       "      <td>azimuth</td>\n",
       "      <td>1.141178e+11</td>\n",
       "    </tr>\n",
       "    <tr>\n",
       "      <th>1</th>\n",
       "      <td>direction</td>\n",
       "      <td>9.560501e+10</td>\n",
       "    </tr>\n",
       "    <tr>\n",
       "      <th>10</th>\n",
       "      <td>day_of_year</td>\n",
       "      <td>7.326189e+10</td>\n",
       "    </tr>\n",
       "    <tr>\n",
       "      <th>11</th>\n",
       "      <td>hour</td>\n",
       "      <td>5.062707e+10</td>\n",
       "    </tr>\n",
       "    <tr>\n",
       "      <th>8</th>\n",
       "      <td>dni</td>\n",
       "      <td>4.562579e+10</td>\n",
       "    </tr>\n",
       "    <tr>\n",
       "      <th>2</th>\n",
       "      <td>temp_cwb</td>\n",
       "      <td>4.129247e+10</td>\n",
       "    </tr>\n",
       "    <tr>\n",
       "      <th>12</th>\n",
       "      <td>min</td>\n",
       "      <td>3.757769e+10</td>\n",
       "    </tr>\n",
       "    <tr>\n",
       "      <th>9</th>\n",
       "      <td>dhi</td>\n",
       "      <td>3.218108e+10</td>\n",
       "    </tr>\n",
       "    <tr>\n",
       "      <th>4</th>\n",
       "      <td>apparent_zenith</td>\n",
       "      <td>2.373616e+10</td>\n",
       "    </tr>\n",
       "    <tr>\n",
       "      <th>7</th>\n",
       "      <td>ghi</td>\n",
       "      <td>2.220343e+10</td>\n",
       "    </tr>\n",
       "    <tr>\n",
       "      <th>5</th>\n",
       "      <td>apparent_elevation</td>\n",
       "      <td>1.586986e+10</td>\n",
       "    </tr>\n",
       "  </tbody>\n",
       "</table>\n",
       "</div>"
      ],
      "text/plain": [
       "               feature    importance\n",
       "3              rad_cwb  8.880538e+11\n",
       "0         LocationCode  2.057688e+11\n",
       "6              azimuth  1.141178e+11\n",
       "1            direction  9.560501e+10\n",
       "10         day_of_year  7.326189e+10\n",
       "11                hour  5.062707e+10\n",
       "8                  dni  4.562579e+10\n",
       "2             temp_cwb  4.129247e+10\n",
       "12                 min  3.757769e+10\n",
       "9                  dhi  3.218108e+10\n",
       "4      apparent_zenith  2.373616e+10\n",
       "7                  ghi  2.220343e+10\n",
       "5   apparent_elevation  1.586986e+10"
      ]
     },
     "execution_count": 13,
     "metadata": {},
     "output_type": "execute_result"
    }
   ],
   "source": [
    "feature_importance = pd.DataFrame({\n",
    "    'feature': train_X.columns,\n",
    "    'importance': model.feature_importance('gain')\n",
    "})\n",
    "\n",
    "feature_importance = feature_importance.sort_values(\n",
    "    'importance', ascending=False\n",
    ")\n",
    "\n",
    "feature_importance"
   ]
  },
  {
   "cell_type": "markdown",
   "id": "09312e3f",
   "metadata": {
    "papermill": {
     "duration": 0.006666,
     "end_time": "2024-12-05T11:39:09.567683",
     "exception": false,
     "start_time": "2024-12-05T11:39:09.561017",
     "status": "completed"
    },
    "tags": []
   },
   "source": [
    "---"
   ]
  },
  {
   "cell_type": "markdown",
   "id": "078ed105",
   "metadata": {
    "papermill": {
     "duration": 0.006753,
     "end_time": "2024-12-05T11:39:09.581606",
     "exception": false,
     "start_time": "2024-12-05T11:39:09.574853",
     "status": "completed"
    },
    "tags": []
   },
   "source": [
    "# Testset preidiction"
   ]
  },
  {
   "cell_type": "code",
   "execution_count": 14,
   "id": "d94392fc",
   "metadata": {
    "execution": {
     "iopub.execute_input": "2024-12-05T11:39:09.597515Z",
     "iopub.status.busy": "2024-12-05T11:39:09.597173Z",
     "iopub.status.idle": "2024-12-05T11:39:09.924204Z",
     "shell.execute_reply": "2024-12-05T11:39:09.923162Z"
    },
    "papermill": {
     "duration": 0.337493,
     "end_time": "2024-12-05T11:39:09.926334",
     "exception": false,
     "start_time": "2024-12-05T11:39:09.588841",
     "status": "completed"
    },
    "tags": []
   },
   "outputs": [
    {
     "data": {
      "text/html": [
       "<div>\n",
       "<style scoped>\n",
       "    .dataframe tbody tr th:only-of-type {\n",
       "        vertical-align: middle;\n",
       "    }\n",
       "\n",
       "    .dataframe tbody tr th {\n",
       "        vertical-align: top;\n",
       "    }\n",
       "\n",
       "    .dataframe thead th {\n",
       "        text-align: right;\n",
       "    }\n",
       "</style>\n",
       "<table border=\"1\" class=\"dataframe\">\n",
       "  <thead>\n",
       "    <tr style=\"text-align: right;\">\n",
       "      <th></th>\n",
       "      <th>LocationCode</th>\n",
       "      <th>direction</th>\n",
       "      <th>temp_cwb</th>\n",
       "      <th>rad_cwb</th>\n",
       "      <th>apparent_zenith</th>\n",
       "      <th>apparent_elevation</th>\n",
       "      <th>azimuth</th>\n",
       "      <th>ghi</th>\n",
       "      <th>dni</th>\n",
       "      <th>dhi</th>\n",
       "      <th>day_of_year</th>\n",
       "      <th>hour</th>\n",
       "      <th>min</th>\n",
       "    </tr>\n",
       "  </thead>\n",
       "  <tbody>\n",
       "    <tr>\n",
       "      <th>0</th>\n",
       "      <td>1</td>\n",
       "      <td>181.0</td>\n",
       "      <td>17.3</td>\n",
       "      <td>0.8</td>\n",
       "      <td>63.247668</td>\n",
       "      <td>26.752332</td>\n",
       "      <td>131.288622</td>\n",
       "      <td>429.514615</td>\n",
       "      <td>785.797366</td>\n",
       "      <td>75.799813</td>\n",
       "      <td>17</td>\n",
       "      <td>9</td>\n",
       "      <td>0</td>\n",
       "    </tr>\n",
       "    <tr>\n",
       "      <th>1</th>\n",
       "      <td>1</td>\n",
       "      <td>181.0</td>\n",
       "      <td>17.3</td>\n",
       "      <td>0.8</td>\n",
       "      <td>63.076108</td>\n",
       "      <td>26.923892</td>\n",
       "      <td>131.466204</td>\n",
       "      <td>432.685234</td>\n",
       "      <td>787.611928</td>\n",
       "      <td>76.049325</td>\n",
       "      <td>17</td>\n",
       "      <td>9</td>\n",
       "      <td>1</td>\n",
       "    </tr>\n",
       "    <tr>\n",
       "      <th>2</th>\n",
       "      <td>1</td>\n",
       "      <td>181.0</td>\n",
       "      <td>17.3</td>\n",
       "      <td>0.8</td>\n",
       "      <td>62.905017</td>\n",
       "      <td>27.094983</td>\n",
       "      <td>131.644626</td>\n",
       "      <td>435.843357</td>\n",
       "      <td>789.402018</td>\n",
       "      <td>76.296758</td>\n",
       "      <td>17</td>\n",
       "      <td>9</td>\n",
       "      <td>2</td>\n",
       "    </tr>\n",
       "    <tr>\n",
       "      <th>3</th>\n",
       "      <td>1</td>\n",
       "      <td>181.0</td>\n",
       "      <td>17.3</td>\n",
       "      <td>0.8</td>\n",
       "      <td>62.734401</td>\n",
       "      <td>27.265599</td>\n",
       "      <td>131.823892</td>\n",
       "      <td>438.988892</td>\n",
       "      <td>791.168037</td>\n",
       "      <td>76.542132</td>\n",
       "      <td>17</td>\n",
       "      <td>9</td>\n",
       "      <td>3</td>\n",
       "    </tr>\n",
       "    <tr>\n",
       "      <th>4</th>\n",
       "      <td>1</td>\n",
       "      <td>181.0</td>\n",
       "      <td>17.3</td>\n",
       "      <td>0.8</td>\n",
       "      <td>62.564262</td>\n",
       "      <td>27.435738</td>\n",
       "      <td>132.004007</td>\n",
       "      <td>442.121752</td>\n",
       "      <td>792.910382</td>\n",
       "      <td>76.785470</td>\n",
       "      <td>17</td>\n",
       "      <td>9</td>\n",
       "      <td>4</td>\n",
       "    </tr>\n",
       "    <tr>\n",
       "      <th>...</th>\n",
       "      <td>...</td>\n",
       "      <td>...</td>\n",
       "      <td>...</td>\n",
       "      <td>...</td>\n",
       "      <td>...</td>\n",
       "      <td>...</td>\n",
       "      <td>...</td>\n",
       "      <td>...</td>\n",
       "      <td>...</td>\n",
       "      <td>...</td>\n",
       "      <td>...</td>\n",
       "      <td>...</td>\n",
       "      <td>...</td>\n",
       "    </tr>\n",
       "    <tr>\n",
       "      <th>95995</th>\n",
       "      <td>12</td>\n",
       "      <td>298.0</td>\n",
       "      <td>22.7</td>\n",
       "      <td>0.1</td>\n",
       "      <td>80.635190</td>\n",
       "      <td>9.364810</td>\n",
       "      <td>261.543228</td>\n",
       "      <td>80.074206</td>\n",
       "      <td>234.876783</td>\n",
       "      <td>41.854924</td>\n",
       "      <td>276</td>\n",
       "      <td>16</td>\n",
       "      <td>55</td>\n",
       "    </tr>\n",
       "    <tr>\n",
       "      <th>95996</th>\n",
       "      <td>12</td>\n",
       "      <td>298.0</td>\n",
       "      <td>22.7</td>\n",
       "      <td>0.1</td>\n",
       "      <td>80.861445</td>\n",
       "      <td>9.138555</td>\n",
       "      <td>261.649731</td>\n",
       "      <td>76.614636</td>\n",
       "      <td>226.626384</td>\n",
       "      <td>40.621142</td>\n",
       "      <td>276</td>\n",
       "      <td>16</td>\n",
       "      <td>56</td>\n",
       "    </tr>\n",
       "    <tr>\n",
       "      <th>95997</th>\n",
       "      <td>12</td>\n",
       "      <td>298.0</td>\n",
       "      <td>22.7</td>\n",
       "      <td>0.1</td>\n",
       "      <td>81.087760</td>\n",
       "      <td>8.912240</td>\n",
       "      <td>261.756031</td>\n",
       "      <td>73.191495</td>\n",
       "      <td>218.305735</td>\n",
       "      <td>39.371129</td>\n",
       "      <td>276</td>\n",
       "      <td>16</td>\n",
       "      <td>57</td>\n",
       "    </tr>\n",
       "    <tr>\n",
       "      <th>95998</th>\n",
       "      <td>12</td>\n",
       "      <td>298.0</td>\n",
       "      <td>22.7</td>\n",
       "      <td>0.1</td>\n",
       "      <td>81.314136</td>\n",
       "      <td>8.685864</td>\n",
       "      <td>261.862134</td>\n",
       "      <td>69.806874</td>\n",
       "      <td>209.920720</td>\n",
       "      <td>38.105162</td>\n",
       "      <td>276</td>\n",
       "      <td>16</td>\n",
       "      <td>58</td>\n",
       "    </tr>\n",
       "    <tr>\n",
       "      <th>95999</th>\n",
       "      <td>12</td>\n",
       "      <td>298.0</td>\n",
       "      <td>22.7</td>\n",
       "      <td>0.1</td>\n",
       "      <td>81.540570</td>\n",
       "      <td>8.459430</td>\n",
       "      <td>261.968042</td>\n",
       "      <td>66.462982</td>\n",
       "      <td>201.478045</td>\n",
       "      <td>36.823608</td>\n",
       "      <td>276</td>\n",
       "      <td>16</td>\n",
       "      <td>59</td>\n",
       "    </tr>\n",
       "  </tbody>\n",
       "</table>\n",
       "<p>96000 rows × 13 columns</p>\n",
       "</div>"
      ],
      "text/plain": [
       "       LocationCode  direction  temp_cwb  rad_cwb  apparent_zenith  \\\n",
       "0                 1      181.0      17.3      0.8        63.247668   \n",
       "1                 1      181.0      17.3      0.8        63.076108   \n",
       "2                 1      181.0      17.3      0.8        62.905017   \n",
       "3                 1      181.0      17.3      0.8        62.734401   \n",
       "4                 1      181.0      17.3      0.8        62.564262   \n",
       "...             ...        ...       ...      ...              ...   \n",
       "95995            12      298.0      22.7      0.1        80.635190   \n",
       "95996            12      298.0      22.7      0.1        80.861445   \n",
       "95997            12      298.0      22.7      0.1        81.087760   \n",
       "95998            12      298.0      22.7      0.1        81.314136   \n",
       "95999            12      298.0      22.7      0.1        81.540570   \n",
       "\n",
       "       apparent_elevation     azimuth         ghi         dni        dhi  \\\n",
       "0               26.752332  131.288622  429.514615  785.797366  75.799813   \n",
       "1               26.923892  131.466204  432.685234  787.611928  76.049325   \n",
       "2               27.094983  131.644626  435.843357  789.402018  76.296758   \n",
       "3               27.265599  131.823892  438.988892  791.168037  76.542132   \n",
       "4               27.435738  132.004007  442.121752  792.910382  76.785470   \n",
       "...                   ...         ...         ...         ...        ...   \n",
       "95995            9.364810  261.543228   80.074206  234.876783  41.854924   \n",
       "95996            9.138555  261.649731   76.614636  226.626384  40.621142   \n",
       "95997            8.912240  261.756031   73.191495  218.305735  39.371129   \n",
       "95998            8.685864  261.862134   69.806874  209.920720  38.105162   \n",
       "95999            8.459430  261.968042   66.462982  201.478045  36.823608   \n",
       "\n",
       "       day_of_year  hour  min  \n",
       "0               17     9    0  \n",
       "1               17     9    1  \n",
       "2               17     9    2  \n",
       "3               17     9    3  \n",
       "4               17     9    4  \n",
       "...            ...   ...  ...  \n",
       "95995          276    16   55  \n",
       "95996          276    16   56  \n",
       "95997          276    16   57  \n",
       "95998          276    16   58  \n",
       "95999          276    16   59  \n",
       "\n",
       "[96000 rows x 13 columns]"
      ]
     },
     "execution_count": 14,
     "metadata": {},
     "output_type": "execute_result"
    }
   ],
   "source": [
    "testdata_1min = pd.read_csv('/kaggle/input/ai-cup-dataset/testdata_1min.csv')\n",
    "\n",
    "testdata_1min"
   ]
  },
  {
   "cell_type": "code",
   "execution_count": 15,
   "id": "169574a9",
   "metadata": {
    "execution": {
     "iopub.execute_input": "2024-12-05T11:39:09.943065Z",
     "iopub.status.busy": "2024-12-05T11:39:09.942687Z",
     "iopub.status.idle": "2024-12-05T11:39:09.956003Z",
     "shell.execute_reply": "2024-12-05T11:39:09.954682Z"
    },
    "papermill": {
     "duration": 0.024099,
     "end_time": "2024-12-05T11:39:09.958110",
     "exception": false,
     "start_time": "2024-12-05T11:39:09.934011",
     "status": "completed"
    },
    "tags": []
   },
   "outputs": [
    {
     "name": "stdout",
     "output_type": "stream",
     "text": [
      "<class 'pandas.core.frame.DataFrame'>\n",
      "RangeIndex: 96000 entries, 0 to 95999\n",
      "Data columns (total 13 columns):\n",
      " #   Column              Non-Null Count  Dtype  \n",
      "---  ------              --------------  -----  \n",
      " 0   LocationCode        96000 non-null  int64  \n",
      " 1   direction           84480 non-null  float64\n",
      " 2   temp_cwb            96000 non-null  float64\n",
      " 3   rad_cwb             96000 non-null  float64\n",
      " 4   apparent_zenith     96000 non-null  float64\n",
      " 5   apparent_elevation  96000 non-null  float64\n",
      " 6   azimuth             96000 non-null  float64\n",
      " 7   ghi                 96000 non-null  float64\n",
      " 8   dni                 96000 non-null  float64\n",
      " 9   dhi                 96000 non-null  float64\n",
      " 10  day_of_year         96000 non-null  int64  \n",
      " 11  hour                96000 non-null  int64  \n",
      " 12  min                 96000 non-null  int64  \n",
      "dtypes: float64(9), int64(4)\n",
      "memory usage: 9.5 MB\n"
     ]
    }
   ],
   "source": [
    "testdata_1min.info()"
   ]
  },
  {
   "cell_type": "code",
   "execution_count": 16,
   "id": "857f8cb9",
   "metadata": {
    "execution": {
     "iopub.execute_input": "2024-12-05T11:39:09.975767Z",
     "iopub.status.busy": "2024-12-05T11:39:09.974662Z",
     "iopub.status.idle": "2024-12-05T11:46:36.584711Z",
     "shell.execute_reply": "2024-12-05T11:46:36.583405Z"
    },
    "papermill": {
     "duration": 446.627826,
     "end_time": "2024-12-05T11:46:36.593802",
     "exception": false,
     "start_time": "2024-12-05T11:39:09.965976",
     "status": "completed"
    },
    "tags": []
   },
   "outputs": [
    {
     "name": "stdout",
     "output_type": "stream",
     "text": [
      "[ 95.87434298 113.10442683 116.24636846 128.28633547 141.68017615\n",
      " 161.29094925 241.23675514 237.63494696 182.42608286 176.64610501]\n",
      "[243.41095958 223.80488203 206.25023268 147.95018631 140.93150823\n",
      " 162.5407458  141.8594794  128.5175226  117.13444265 148.81383332]\n",
      "[ 1.1152914   0.76134363  0.62387951 -0.82740646 -0.4395541  -0.0714302\n",
      " -1.03750849 -0.79382843 -1.16672856 -0.97971576]\n",
      "[ 0.53646272  0.35236924  2.82019912 -1.1397193  -0.42438356 -1.06157533\n",
      " -0.44745998  0.55108584  0.13365381  8.62709459]\n"
     ]
    }
   ],
   "source": [
    "result_1min = model.predict(testdata_1min)\n",
    "\n",
    "print(result_1min[:10])\n",
    "print(result_1min[10:20])\n",
    "\n",
    "print(result_1min[-20:-10])\n",
    "print(result_1min[-10:])"
   ]
  },
  {
   "cell_type": "code",
   "execution_count": 17,
   "id": "d70074c2",
   "metadata": {
    "execution": {
     "iopub.execute_input": "2024-12-05T11:46:36.611475Z",
     "iopub.status.busy": "2024-12-05T11:46:36.611029Z",
     "iopub.status.idle": "2024-12-05T11:46:36.694541Z",
     "shell.execute_reply": "2024-12-05T11:46:36.693318Z"
    },
    "papermill": {
     "duration": 0.095174,
     "end_time": "2024-12-05T11:46:36.697035",
     "exception": false,
     "start_time": "2024-12-05T11:46:36.601861",
     "status": "completed"
    },
    "tags": []
   },
   "outputs": [
    {
     "name": "stdout",
     "output_type": "stream",
     "text": [
      "[159.44, 166.12, 129.18, 218.52, 249.15, 231.15, 481.73, 505.13, 587.26, 629.26, 693.55, 903.39, 69.97, 60.95, 50.87]\n",
      "[25.7, 7.5, 14.03, 8.8, 13.76, 16.52, 10.19, 5.38, 5.45, 4.69, 3.87, 3.96, 2.14, 0, 0.99]\n"
     ]
    }
   ],
   "source": [
    "result_avg = [max(round(sum(result_1min[i:i+10])/10, 2), 0) for i in range(0, len(result_1min), 10)]\n",
    "\n",
    "print(result_avg[:15])\n",
    "print(result_avg[-15:])"
   ]
  },
  {
   "cell_type": "code",
   "execution_count": 18,
   "id": "106f41ec",
   "metadata": {
    "execution": {
     "iopub.execute_input": "2024-12-05T11:46:36.716691Z",
     "iopub.status.busy": "2024-12-05T11:46:36.715727Z",
     "iopub.status.idle": "2024-12-05T11:46:36.747843Z",
     "shell.execute_reply": "2024-12-05T11:46:36.746742Z"
    },
    "papermill": {
     "duration": 0.043514,
     "end_time": "2024-12-05T11:46:36.750138",
     "exception": false,
     "start_time": "2024-12-05T11:46:36.706624",
     "status": "completed"
    },
    "tags": []
   },
   "outputs": [
    {
     "data": {
      "text/html": [
       "<div>\n",
       "<style scoped>\n",
       "    .dataframe tbody tr th:only-of-type {\n",
       "        vertical-align: middle;\n",
       "    }\n",
       "\n",
       "    .dataframe tbody tr th {\n",
       "        vertical-align: top;\n",
       "    }\n",
       "\n",
       "    .dataframe thead th {\n",
       "        text-align: right;\n",
       "    }\n",
       "</style>\n",
       "<table border=\"1\" class=\"dataframe\">\n",
       "  <thead>\n",
       "    <tr style=\"text-align: right;\">\n",
       "      <th></th>\n",
       "      <th>序號</th>\n",
       "      <th>答案</th>\n",
       "    </tr>\n",
       "  </thead>\n",
       "  <tbody>\n",
       "    <tr>\n",
       "      <th>0</th>\n",
       "      <td>20240117090001</td>\n",
       "      <td>NaN</td>\n",
       "    </tr>\n",
       "    <tr>\n",
       "      <th>1</th>\n",
       "      <td>20240117091001</td>\n",
       "      <td>NaN</td>\n",
       "    </tr>\n",
       "    <tr>\n",
       "      <th>2</th>\n",
       "      <td>20240117092001</td>\n",
       "      <td>NaN</td>\n",
       "    </tr>\n",
       "    <tr>\n",
       "      <th>3</th>\n",
       "      <td>20240117093001</td>\n",
       "      <td>NaN</td>\n",
       "    </tr>\n",
       "    <tr>\n",
       "      <th>4</th>\n",
       "      <td>20240117094001</td>\n",
       "      <td>NaN</td>\n",
       "    </tr>\n",
       "    <tr>\n",
       "      <th>...</th>\n",
       "      <td>...</td>\n",
       "      <td>...</td>\n",
       "    </tr>\n",
       "    <tr>\n",
       "      <th>9595</th>\n",
       "      <td>20241002161012</td>\n",
       "      <td>NaN</td>\n",
       "    </tr>\n",
       "    <tr>\n",
       "      <th>9596</th>\n",
       "      <td>20241002162012</td>\n",
       "      <td>NaN</td>\n",
       "    </tr>\n",
       "    <tr>\n",
       "      <th>9597</th>\n",
       "      <td>20241002163012</td>\n",
       "      <td>NaN</td>\n",
       "    </tr>\n",
       "    <tr>\n",
       "      <th>9598</th>\n",
       "      <td>20241002164012</td>\n",
       "      <td>NaN</td>\n",
       "    </tr>\n",
       "    <tr>\n",
       "      <th>9599</th>\n",
       "      <td>20241002165012</td>\n",
       "      <td>NaN</td>\n",
       "    </tr>\n",
       "  </tbody>\n",
       "</table>\n",
       "<p>9600 rows × 2 columns</p>\n",
       "</div>"
      ],
      "text/plain": [
       "                  序號  答案\n",
       "0     20240117090001 NaN\n",
       "1     20240117091001 NaN\n",
       "2     20240117092001 NaN\n",
       "3     20240117093001 NaN\n",
       "4     20240117094001 NaN\n",
       "...              ...  ..\n",
       "9595  20241002161012 NaN\n",
       "9596  20241002162012 NaN\n",
       "9597  20241002163012 NaN\n",
       "9598  20241002164012 NaN\n",
       "9599  20241002165012 NaN\n",
       "\n",
       "[9600 rows x 2 columns]"
      ]
     },
     "execution_count": 18,
     "metadata": {},
     "output_type": "execute_result"
    }
   ],
   "source": [
    "testset = pd.read_csv('/kaggle/input/ai-cup-original-testset/upload(no answer).csv')\n",
    "\n",
    "testset['序號'] = testset['序號'].astype('str')\n",
    "\n",
    "testset"
   ]
  },
  {
   "cell_type": "code",
   "execution_count": 19,
   "id": "57f26acc",
   "metadata": {
    "execution": {
     "iopub.execute_input": "2024-12-05T11:46:36.768652Z",
     "iopub.status.busy": "2024-12-05T11:46:36.768177Z",
     "iopub.status.idle": "2024-12-05T11:46:36.785179Z",
     "shell.execute_reply": "2024-12-05T11:46:36.784216Z"
    },
    "papermill": {
     "duration": 0.029557,
     "end_time": "2024-12-05T11:46:36.787971",
     "exception": false,
     "start_time": "2024-12-05T11:46:36.758414",
     "status": "completed"
    },
    "tags": []
   },
   "outputs": [
    {
     "data": {
      "text/html": [
       "<div>\n",
       "<style scoped>\n",
       "    .dataframe tbody tr th:only-of-type {\n",
       "        vertical-align: middle;\n",
       "    }\n",
       "\n",
       "    .dataframe tbody tr th {\n",
       "        vertical-align: top;\n",
       "    }\n",
       "\n",
       "    .dataframe thead th {\n",
       "        text-align: right;\n",
       "    }\n",
       "</style>\n",
       "<table border=\"1\" class=\"dataframe\">\n",
       "  <thead>\n",
       "    <tr style=\"text-align: right;\">\n",
       "      <th></th>\n",
       "      <th>序號</th>\n",
       "      <th>答案</th>\n",
       "    </tr>\n",
       "  </thead>\n",
       "  <tbody>\n",
       "    <tr>\n",
       "      <th>0</th>\n",
       "      <td>20240117090001</td>\n",
       "      <td>159.44</td>\n",
       "    </tr>\n",
       "    <tr>\n",
       "      <th>1</th>\n",
       "      <td>20240117091001</td>\n",
       "      <td>166.12</td>\n",
       "    </tr>\n",
       "    <tr>\n",
       "      <th>2</th>\n",
       "      <td>20240117092001</td>\n",
       "      <td>129.18</td>\n",
       "    </tr>\n",
       "    <tr>\n",
       "      <th>3</th>\n",
       "      <td>20240117093001</td>\n",
       "      <td>218.52</td>\n",
       "    </tr>\n",
       "    <tr>\n",
       "      <th>4</th>\n",
       "      <td>20240117094001</td>\n",
       "      <td>249.15</td>\n",
       "    </tr>\n",
       "    <tr>\n",
       "      <th>...</th>\n",
       "      <td>...</td>\n",
       "      <td>...</td>\n",
       "    </tr>\n",
       "    <tr>\n",
       "      <th>9595</th>\n",
       "      <td>20241002161012</td>\n",
       "      <td>3.87</td>\n",
       "    </tr>\n",
       "    <tr>\n",
       "      <th>9596</th>\n",
       "      <td>20241002162012</td>\n",
       "      <td>3.96</td>\n",
       "    </tr>\n",
       "    <tr>\n",
       "      <th>9597</th>\n",
       "      <td>20241002163012</td>\n",
       "      <td>2.14</td>\n",
       "    </tr>\n",
       "    <tr>\n",
       "      <th>9598</th>\n",
       "      <td>20241002164012</td>\n",
       "      <td>0.00</td>\n",
       "    </tr>\n",
       "    <tr>\n",
       "      <th>9599</th>\n",
       "      <td>20241002165012</td>\n",
       "      <td>0.99</td>\n",
       "    </tr>\n",
       "  </tbody>\n",
       "</table>\n",
       "<p>9600 rows × 2 columns</p>\n",
       "</div>"
      ],
      "text/plain": [
       "                  序號      答案\n",
       "0     20240117090001  159.44\n",
       "1     20240117091001  166.12\n",
       "2     20240117092001  129.18\n",
       "3     20240117093001  218.52\n",
       "4     20240117094001  249.15\n",
       "...              ...     ...\n",
       "9595  20241002161012    3.87\n",
       "9596  20241002162012    3.96\n",
       "9597  20241002163012    2.14\n",
       "9598  20241002164012    0.00\n",
       "9599  20241002165012    0.99\n",
       "\n",
       "[9600 rows x 2 columns]"
      ]
     },
     "execution_count": 19,
     "metadata": {},
     "output_type": "execute_result"
    }
   ],
   "source": [
    "testset['答案'] = result_avg\n",
    "\n",
    "testset"
   ]
  },
  {
   "cell_type": "code",
   "execution_count": 20,
   "id": "bfa6ee99",
   "metadata": {
    "execution": {
     "iopub.execute_input": "2024-12-05T11:46:36.806409Z",
     "iopub.status.busy": "2024-12-05T11:46:36.806037Z",
     "iopub.status.idle": "2024-12-05T11:46:36.832462Z",
     "shell.execute_reply": "2024-12-05T11:46:36.830657Z"
    },
    "papermill": {
     "duration": 0.038893,
     "end_time": "2024-12-05T11:46:36.835308",
     "exception": false,
     "start_time": "2024-12-05T11:46:36.796415",
     "status": "completed"
    },
    "tags": []
   },
   "outputs": [
    {
     "name": "stdout",
     "output_type": "stream",
     "text": [
      "testset 1min saved\n"
     ]
    }
   ],
   "source": [
    "testset.to_csv('upload_1min.csv', index=False)\n",
    "\n",
    "print('testset 1min saved')"
   ]
  },
  {
   "cell_type": "markdown",
   "id": "76a7658f",
   "metadata": {
    "papermill": {
     "duration": 0.008969,
     "end_time": "2024-12-05T11:46:36.853281",
     "exception": false,
     "start_time": "2024-12-05T11:46:36.844312",
     "status": "completed"
    },
    "tags": []
   },
   "source": [
    "---"
   ]
  },
  {
   "cell_type": "code",
   "execution_count": 21,
   "id": "731b7dce",
   "metadata": {
    "execution": {
     "iopub.execute_input": "2024-12-05T11:46:36.872385Z",
     "iopub.status.busy": "2024-12-05T11:46:36.872003Z",
     "iopub.status.idle": "2024-12-05T11:46:41.378254Z",
     "shell.execute_reply": "2024-12-05T11:46:41.377147Z"
    },
    "papermill": {
     "duration": 4.518208,
     "end_time": "2024-12-05T11:46:41.380505",
     "exception": false,
     "start_time": "2024-12-05T11:46:36.862297",
     "status": "completed"
    },
    "tags": []
   },
   "outputs": [
    {
     "data": {
      "text/plain": [
       "<lightgbm.basic.Booster at 0x7d286046ea40>"
      ]
     },
     "execution_count": 21,
     "metadata": {},
     "output_type": "execute_result"
    }
   ],
   "source": [
    "model.save_model(f'LGBM_{num_of_epochs}e_{loss}.json')  # 存成 JSON 格式"
   ]
  }
 ],
 "metadata": {
  "kaggle": {
   "accelerator": "none",
   "dataSources": [
    {
     "datasetId": 6230924,
     "sourceId": 10102077,
     "sourceType": "datasetVersion"
    },
    {
     "datasetId": 6232899,
     "sourceId": 10104756,
     "sourceType": "datasetVersion"
    }
   ],
   "dockerImageVersionId": 30786,
   "isGpuEnabled": false,
   "isInternetEnabled": true,
   "language": "python",
   "sourceType": "notebook"
  },
  "kernelspec": {
   "display_name": "Python 3",
   "language": "python",
   "name": "python3"
  },
  "language_info": {
   "codemirror_mode": {
    "name": "ipython",
    "version": 3
   },
   "file_extension": ".py",
   "mimetype": "text/x-python",
   "name": "python",
   "nbconvert_exporter": "python",
   "pygments_lexer": "ipython3",
   "version": "3.10.14"
  },
  "papermill": {
   "default_parameters": {},
   "duration": 21076.519926,
   "end_time": "2024-12-05T11:46:42.614318",
   "environment_variables": {},
   "exception": null,
   "input_path": "__notebook__.ipynb",
   "output_path": "__notebook__.ipynb",
   "parameters": {},
   "start_time": "2024-12-05T05:55:26.094392",
   "version": "2.6.0"
  }
 },
 "nbformat": 4,
 "nbformat_minor": 5
}
