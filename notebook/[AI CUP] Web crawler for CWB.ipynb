{
 "cells": [
  {
   "cell_type": "code",
   "execution_count": 1,
   "id": "85e5a56f",
   "metadata": {
    "execution": {
     "iopub.execute_input": "2024-12-04T17:51:20.452147Z",
     "iopub.status.busy": "2024-12-04T17:51:20.451732Z",
     "iopub.status.idle": "2024-12-04T17:51:21.992603Z",
     "shell.execute_reply": "2024-12-04T17:51:21.991540Z"
    },
    "papermill": {
     "duration": 1.547913,
     "end_time": "2024-12-04T17:51:21.995035",
     "exception": false,
     "start_time": "2024-12-04T17:51:20.447122",
     "status": "completed"
    },
    "tags": []
   },
   "outputs": [],
   "source": [
    "import csv\n",
    "import json\n",
    "import time\n",
    "import random\n",
    "import requests\n",
    "\n",
    "import pandas as pd\n",
    "\n",
    "from tqdm import tqdm\n",
    "from bs4 import BeautifulSoup\n",
    "from openpyxl import Workbook\n",
    "from datetime import datetime, timedelta"
   ]
  },
  {
   "cell_type": "code",
   "execution_count": 2,
   "id": "834f96bd",
   "metadata": {
    "execution": {
     "iopub.execute_input": "2024-12-04T17:51:22.002346Z",
     "iopub.status.busy": "2024-12-04T17:51:22.001785Z",
     "iopub.status.idle": "2024-12-04T17:51:22.007201Z",
     "shell.execute_reply": "2024-12-04T17:51:22.005991Z"
    },
    "papermill": {
     "duration": 0.012025,
     "end_time": "2024-12-04T17:51:22.009968",
     "exception": false,
     "start_time": "2024-12-04T17:51:21.997943",
     "status": "completed"
    },
    "tags": []
   },
   "outputs": [],
   "source": [
    "collection_start = \"2024-01-01\" # 資料開始時間\n",
    "collection_end = \"2024-11-17\" # 資料結束時間"
   ]
  },
  {
   "cell_type": "code",
   "execution_count": 3,
   "id": "b3f0b42b",
   "metadata": {
    "execution": {
     "iopub.execute_input": "2024-12-04T17:51:22.017907Z",
     "iopub.status.busy": "2024-12-04T17:51:22.017483Z",
     "iopub.status.idle": "2024-12-04T17:51:22.022640Z",
     "shell.execute_reply": "2024-12-04T17:51:22.021666Z"
    },
    "papermill": {
     "duration": 0.012309,
     "end_time": "2024-12-04T17:51:22.025160",
     "exception": false,
     "start_time": "2024-12-04T17:51:22.012851",
     "status": "completed"
    },
    "tags": []
   },
   "outputs": [],
   "source": [
    "skip_remark = ['本站只有雷達觀測資料。'] # 備註中含有該文字則不抓取"
   ]
  },
  {
   "cell_type": "code",
   "execution_count": 4,
   "id": "9bc96807",
   "metadata": {
    "_cell_guid": "b1076dfc-b9ad-4769-8c92-a6c4dae69d19",
    "_uuid": "8f2839f25d086af736a60e9eeb907d3b93b6e0e5",
    "execution": {
     "iopub.execute_input": "2024-12-04T17:51:22.032513Z",
     "iopub.status.busy": "2024-12-04T17:51:22.032083Z",
     "iopub.status.idle": "2024-12-04T17:51:27.698893Z",
     "shell.execute_reply": "2024-12-04T17:51:27.697716Z"
    },
    "papermill": {
     "duration": 5.673556,
     "end_time": "2024-12-04T17:51:27.701559",
     "exception": false,
     "start_time": "2024-12-04T17:51:22.028003",
     "status": "completed"
    },
    "tags": []
   },
   "outputs": [
    {
     "name": "stderr",
     "output_type": "stream",
     "text": [
      "/opt/conda/lib/python3.10/site-packages/urllib3/connectionpool.py:1103: InsecureRequestWarning: Unverified HTTPS request is being made to host 'e-service.cwb.gov.tw'. Adding certificate verification is strongly advised. See: https://urllib3.readthedocs.io/en/latest/advanced-usage.html#tls-warnings\n",
      "  warnings.warn(\n"
     ]
    }
   ],
   "source": [
    "response = requests.get(\"https://e-service.cwb.gov.tw/wdps/obs/state.htm\", verify=False)\n",
    "response.encoding = response.apparent_encoding\n",
    "\n",
    "soup = BeautifulSoup(response.text, 'html.parser')\n",
    "\n",
    "tables = soup.find_all('table')\n",
    "\n",
    "data = [[header.text for header in tables[0].find_all('th')]]\n",
    "\n",
    "cols = (tables[0].find_all('tr')[1:] + tables[1].find_all('tr')[1:])\n",
    "for col in cols:\n",
    "    data.append([row.text for row in col.find_all('td')])\n",
    "\n",
    "wb = Workbook()\n",
    "ws = wb.active\n",
    "\n",
    "for row in data:\n",
    "    if row[10] not in skip_remark:\n",
    "        ws.append(row)\n",
    "\n",
    "for row in ws.iter_rows():\n",
    "    for cell in row:\n",
    "        cell.number_format = '@'\n",
    "\n",
    "wb.save('/kaggle/working/station_list.xlsx')"
   ]
  },
  {
   "cell_type": "code",
   "execution_count": 5,
   "id": "0aca82af",
   "metadata": {
    "execution": {
     "iopub.execute_input": "2024-12-04T17:51:27.709184Z",
     "iopub.status.busy": "2024-12-04T17:51:27.708773Z",
     "iopub.status.idle": "2024-12-04T17:51:27.716416Z",
     "shell.execute_reply": "2024-12-04T17:51:27.715146Z"
    },
    "papermill": {
     "duration": 0.014723,
     "end_time": "2024-12-04T17:51:27.719317",
     "exception": false,
     "start_time": "2024-12-04T17:51:27.704594",
     "status": "completed"
    },
    "tags": []
   },
   "outputs": [],
   "source": [
    "def generate_dates(start_collection, end_collection, station_start, station_end=None):\n",
    "    # start_collection: 數據收集開始日期 (str: 'YYYY-MM-DD')\n",
    "    # end_collection: 數據收集結束日期 (str: 'YYYY-MM-DD')\n",
    "    # station_start: 觀測站啟用日期 (str: 'YYYY-MM-DD')\n",
    "    # station_end: 觀測站停用日期 (str: 'YYYY-MM-DD')，如果仍在運作則用 None \n",
    "    # return: 有效數據收集日期列表 (list)\n",
    "\n",
    "    def parse_date(date_str):\n",
    "        return datetime.strptime(date_str, \"%Y-%m-%d\").date()\n",
    "    \n",
    "    start_collect = parse_date(start_collection)\n",
    "    end_collect = parse_date(end_collection)\n",
    "    station_start = parse_date(station_start)\n",
    "    station_end = parse_date(station_end) if station_end else datetime.now().date()\n",
    "    \n",
    "    # 確定有效的開始和結束日期\n",
    "    valid_start = max(start_collect, station_start)\n",
    "    valid_end = min(end_collect, station_end)\n",
    "    \n",
    "    # 如果有效開始日期晚於有效結束日期，則沒有有效的數據收集日期\n",
    "    if valid_start > valid_end:\n",
    "        return []\n",
    "    \n",
    "    # 生成有效日期列表\n",
    "    valid_dates = []\n",
    "    current_date = valid_start\n",
    "    while current_date <= valid_end:\n",
    "        valid_dates.append(current_date.strftime(\"%Y-%m-%d\"))\n",
    "        current_date += timedelta(days=1)\n",
    "    \n",
    "    return valid_dates"
   ]
  },
  {
   "cell_type": "code",
   "execution_count": 6,
   "id": "c9480133",
   "metadata": {
    "execution": {
     "iopub.execute_input": "2024-12-04T17:51:27.727162Z",
     "iopub.status.busy": "2024-12-04T17:51:27.726768Z",
     "iopub.status.idle": "2024-12-04T17:51:27.743204Z",
     "shell.execute_reply": "2024-12-04T17:51:27.742074Z"
    },
    "papermill": {
     "duration": 0.022959,
     "end_time": "2024-12-04T17:51:27.745618",
     "exception": false,
     "start_time": "2024-12-04T17:51:27.722659",
     "status": "completed"
    },
    "tags": []
   },
   "outputs": [],
   "source": [
    "def spider_cwb_data(station_id, date, lng, lat, altitude):\n",
    "    payload = {\n",
    "        \"date\": f\"{date}T00:00:00.000+08:00\",\n",
    "        \"type\": \"report_date\",\n",
    "        \"stn_ID\": station_id,\n",
    "        \"stn_type\": \"cwb\" if station_id[:2] == '46' else \"auto_C0\",\n",
    "        \"more\": \"\",\n",
    "        \"start\": f\"{date}T00:00:00\",\n",
    "        \"end\": f\"{date}T23:59:59\",\n",
    "        \"item\": \"\"\n",
    "    }\n",
    "\n",
    "    response = requests.post(\"https://codis.cwa.gov.tw/api/station?\", data=payload)\n",
    "\n",
    "    soup = BeautifulSoup(response.text, 'html.parser')\n",
    "\n",
    "    temp = json.loads(soup.contents[0])['data'][0]['dts']\n",
    "\n",
    "    y, m, d = map(int, date.split('-'))\n",
    "\n",
    "    station_data = []\n",
    "    for i, t in enumerate(temp):\n",
    "        station_data.append([\n",
    "            station_id,\n",
    "            lng,\n",
    "            lat,\n",
    "            altitude,\n",
    "            y,\n",
    "            m,\n",
    "            d,\n",
    "            i+1,\n",
    "            t['StationPressure']['Instantaneous'] if t.get(\"StationPressure\") is not None else None,\n",
    "            t['SeaLevelPressure']['Instantaneous'] if t.get(\"SeaLevelPressure\") is not None else None,\n",
    "            t['AirTemperature']['Instantaneous'] if t.get(\"AirTemperature\") is not None else None,\n",
    "            t['DewPointTemperature']['Instantaneous'] if t.get(\"DewPointTemperature\") is not None else None,\n",
    "            t['RelativeHumidity']['Instantaneous'] if t.get(\"RelativeHumidity\") is not None else None,\n",
    "            t['WindSpeed']['Mean'] if t.get(\"WindSpeed\") is not None else None,\n",
    "            t['WindDirection']['Mean'] if t.get(\"WindDirection\") is not None else None,\n",
    "            t['PeakGust']['Maximum'] if t.get(\"PeakGust\") is not None else None,\n",
    "            t['PeakGust']['Direction'] if t.get(\"PeakGust\") is not None else None,\n",
    "            (t['Precipitation']['Accumulation'] if t['Precipitation']['Accumulation']>=0 else 0.1) if t.get(\"Precipitation\") is not None else None, # < 0.5 if prec is T\n",
    "            t['PrecipitationDuration']['Total'] if t.get(\"PrecipitationDuration\") is not None else None,\n",
    "            t['SunshineDuration']['Total'] if t.get(\"SunshineDuration\") is not None else None,\n",
    "            t['GlobalSolarRadiation']['Accumulation'] if t.get(\"GlobalSolarRadiation\") is not None else None,\n",
    "            t['Visibility']['Instantaneous'] if t.get(\"Visibility\") is not None else None,\n",
    "            t['UVIndex']['Accumulation'] if t.get(\"UVIndex\") is not None else None,\n",
    "            t['TotalCloudAmount']['Instantaneous'] if t.get(\"TotalCloudAmount\") is not None else None,\n",
    "            t['SoilTemperatureAt0cm']['Instantaneous'] if t.get(\"SoilTemperatureAt0cm\") is not None else None,\n",
    "            t['SoilTemperatureAt5cm']['Instantaneous'] if t.get(\"SoilTemperatureAt5cm\") is not None else None,\n",
    "            t['SoilTemperatureAt10cm']['Instantaneous'] if t.get(\"SoilTemperatureAt10cm\") is not None else None,\n",
    "            t['SoilTemperatureAt20cm']['Instantaneous'] if t.get(\"SoilTemperatureAt20cm\") is not None else None,\n",
    "            t['SoilTemperatureAt30cm']['Instantaneous'] if t.get(\"SoilTemperatureAt30cm\") is not None else None,\n",
    "            t['SoilTemperatureAt50cm']['Instantaneous'] if t.get(\"SoilTemperatureAt50cm\") is not None else None,\n",
    "            t['SoilTemperatureAt100cm']['Instantaneous'] if t.get(\"SoilTemperatureAt100cm\") is not None else None\n",
    "        ])\n",
    "\n",
    "    return station_data\n",
    "\n",
    "# 以下是 API 中的資料與 CWB 資料中對應的欄位名稱\n",
    "# DataTime                                  =\tObsTime\n",
    "# StationPressure['Instantaneous']          =\tStnPres\n",
    "# SeaLevelPressure['Instantaneous']         =\tSeaPres\n",
    "# AirTemperature['Instantaneous']           =\tTemperature\n",
    "# DewPointTemperature['Instantaneous']      =\tTd dew point\n",
    "# RelativeHumidity['Instantaneous']         =\tRH\n",
    "# WindSpeed['Mean']                         =\tWS\n",
    "# WindDirection['Mean']                     =\tWD\n",
    "# PeakGust['Maximum']                       =\tWSGust\n",
    "# PeakGust['Direction']                     =\tWDGust\n",
    "# Precipitation['Accumulation']             =\tPrecp\n",
    "# PrecipitationDuration['Total']            =\tPrecpHour\n",
    "# SunshineDuration['Total']                 =\tSunShine\n",
    "# GlobalSolarRadiation['Accumulation']\t    =\tGloblRad\n",
    "# Visibility['Instantaneous']               =\tVisb\n",
    "# UVIndex['Accumulation']                   =\tUVI\n",
    "# TotalCloudAmount['Instantaneous']         =\tCloud Amount\n",
    "# SoilTemperatureAt0cm['Instantaneous']\t    =\tTxSoil0cm\n",
    "# SoilTemperatureAt5cm['Instantaneous']\t    =\tTxSoil5cm\n",
    "# SoilTemperatureAt10cm['Instantaneous']\t=\tTxSoil10cm\n",
    "# SoilTemperatureAt20cm['Instantaneous']\t=\tTxSoil20cm\n",
    "# SoilTemperatureAt30cm['Instantaneous']\t=\tTxSoil30cm\n",
    "# SoilTemperatureAt50cm['Instantaneous']\t=\tTxSoil50cm\n",
    "# SoilTemperatureAt100cm['Instantaneous']\t=\tTxSoil100cm"
   ]
  },
  {
   "cell_type": "code",
   "execution_count": 7,
   "id": "50617e3e",
   "metadata": {
    "execution": {
     "iopub.execute_input": "2024-12-04T17:51:27.753140Z",
     "iopub.status.busy": "2024-12-04T17:51:27.752776Z",
     "iopub.status.idle": "2024-12-04T17:51:28.317156Z",
     "shell.execute_reply": "2024-12-04T17:51:28.315873Z"
    },
    "papermill": {
     "duration": 0.571227,
     "end_time": "2024-12-04T17:51:28.319837",
     "exception": false,
     "start_time": "2024-12-04T17:51:27.748610",
     "status": "completed"
    },
    "tags": []
   },
   "outputs": [],
   "source": [
    "df = pd.read_excel('/kaggle/working/station_list.xlsx')\n",
    "\n",
    "data = [[\n",
    "    'Station_ID',\n",
    "    'lng.', # 經度\n",
    "    'lat.', # 緯度\n",
    "    'altitude', # 海拔高度\n",
    "    'Year',\n",
    "    'Month',\n",
    "    'Day',\n",
    "    'Hour',\n",
    "    'StnPres',\n",
    "    'SeaPres',\n",
    "    'Temperature',\n",
    "    'Td dew point',\n",
    "    'RH',\n",
    "    'WS',\n",
    "    'WD',\n",
    "    'WSGust',\n",
    "    'WDGust',\n",
    "    'Precp',\n",
    "    'PrecpHour',\n",
    "    'SunShine',\n",
    "    'GloblRad',\n",
    "    'Visb',\n",
    "    'UVI',\n",
    "    'Cloud Amount',\n",
    "    'TxSoil0cm',\n",
    "    'TxSoil5cm',\n",
    "    'TxSoil10cm',\n",
    "    'TxSoil20cm',\n",
    "    'TxSoil30cm',\n",
    "    'TxSoil50cm',\n",
    "    'TxSoil100cm',\n",
    "]]"
   ]
  },
  {
   "cell_type": "code",
   "execution_count": 8,
   "id": "0c8bebd5",
   "metadata": {
    "execution": {
     "iopub.execute_input": "2024-12-04T17:51:28.327488Z",
     "iopub.status.busy": "2024-12-04T17:51:28.327071Z",
     "iopub.status.idle": "2024-12-04T18:05:33.977609Z",
     "shell.execute_reply": "2024-12-04T18:05:33.976548Z"
    },
    "papermill": {
     "duration": 845.657332,
     "end_time": "2024-12-04T18:05:33.980159",
     "exception": false,
     "start_time": "2024-12-04T17:51:28.322827",
     "status": "completed"
    },
    "tags": []
   },
   "outputs": [
    {
     "name": "stderr",
     "output_type": "stream",
     "text": [
      "100%|██████████| 322/322 [04:38<00:00,  1.16it/s]\n",
      "100%|██████████| 322/322 [04:45<00:00,  1.13it/s]\n",
      "100%|██████████| 322/322 [04:38<00:00,  1.15it/s]\n"
     ]
    }
   ],
   "source": [
    "# \"46\"為中央氣象署地面氣象站\n",
    "# \"C0\"為中央氣象署自動氣象站\n",
    "# \"C1\"中央氣象署自動雨量站，其餘皆為農業觀測站\n",
    "\n",
    "# station_list = df[df['站號'].str.startswith(tuple(['46']))] # 抓取所有 46 開頭的地面氣象站資料\n",
    "station_list = df[df['站號'].str.startswith(tuple(['C0Z100', 'C0T9E0', '466990']))] # 抓取 C0Z100, C0T9E0, 466990 的資料，與 208 行擇一使用\n",
    "for index, station in station_list.iterrows():\n",
    "    station_id = station['站號']\n",
    "\n",
    "    station_start = station['資料起始日期']\n",
    "    station_end = station['撤站日期'] if not pd.isnull(station['撤站日期']) else None\n",
    "\n",
    "    dates = generate_dates(collection_start, collection_end, station_start, station_end)\n",
    "\n",
    "    for date in tqdm(dates):\n",
    "        data += spider_cwb_data(station_id, date, station['經度'], station['緯度'], station['海拔高度(m)'])\n",
    "\n",
    "        time.sleep(random.uniform(0.01, 0.3)) # 隨機暫停 0.01 ~ 0.3 秒.\n",
    "    \n",
    "    time.sleep(random.uniform(0.5, 1.5)) # 隨機暫停 0.5 ~ 1.5 秒."
   ]
  },
  {
   "cell_type": "code",
   "execution_count": 9,
   "id": "3b9077aa",
   "metadata": {
    "execution": {
     "iopub.execute_input": "2024-12-04T18:05:34.088697Z",
     "iopub.status.busy": "2024-12-04T18:05:34.088245Z",
     "iopub.status.idle": "2024-12-04T18:05:34.243842Z",
     "shell.execute_reply": "2024-12-04T18:05:34.242672Z"
    },
    "papermill": {
     "duration": 0.213203,
     "end_time": "2024-12-04T18:05:34.246654",
     "exception": false,
     "start_time": "2024-12-04T18:05:34.033451",
     "status": "completed"
    },
    "tags": []
   },
   "outputs": [],
   "source": [
    "with open('/kaggle/working/cwb.csv', 'w', newline= '') as f:\n",
    "    write = csv.writer(f, delimiter= ',') \n",
    "    write.writerows(data)"
   ]
  }
 ],
 "metadata": {
  "kaggle": {
   "accelerator": "none",
   "dataSources": [],
   "isGpuEnabled": false,
   "isInternetEnabled": true,
   "language": "python",
   "sourceType": "notebook"
  },
  "kernelspec": {
   "display_name": "Python 3",
   "language": "python",
   "name": "python3"
  },
  "language_info": {
   "codemirror_mode": {
    "name": "ipython",
    "version": 3
   },
   "file_extension": ".py",
   "mimetype": "text/x-python",
   "name": "python",
   "nbconvert_exporter": "python",
   "pygments_lexer": "ipython3",
   "version": "3.10.14"
  },
  "papermill": {
   "default_parameters": {},
   "duration": 857.51875,
   "end_time": "2024-12-04T18:05:34.982332",
   "environment_variables": {},
   "exception": null,
   "input_path": "__notebook__.ipynb",
   "output_path": "__notebook__.ipynb",
   "parameters": {},
   "start_time": "2024-12-04T17:51:17.463582",
   "version": "2.6.0"
  }
 },
 "nbformat": 4,
 "nbformat_minor": 5
}
